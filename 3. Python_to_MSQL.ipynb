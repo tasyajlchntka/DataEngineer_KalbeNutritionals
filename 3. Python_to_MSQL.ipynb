{
 "cells": [
  {
   "cell_type": "code",
   "execution_count": null,
   "id": "1c3f162b",
   "metadata": {},
   "outputs": [],
   "source": [
    "# Melakukan import mysql connector\n",
    "import mysql.connector\n",
    "\n",
    "# Melakukan percobaan koneksi\n",
    "conn = mysql.connector.connect(\n",
    "    host=\"localhost\", user=\"root\", password=\"data2023\", database=\"kalbe\")\n",
    "\n",
    "# Membuat object cursor sebagai penanda\n",
    "cursor = conn.cursor()\n",
    "\n",
    "# Deklarasi SQL Query untuk memasukkan record ke Database (KARYAWAN)\n",
    "insert_sql = (\n",
    "    \"INSERT INTO KARYAWAN (FIRST_NAME, LAST_NAME, AGE, SEX, INCOME)\"\n",
    "    \"VALUES (%s, %s, %s, %s, %s)\"\n",
    ")\n",
    "values = (\"Tasya\", \"Gurning\", 23, \"Female\", 6000000)\n",
    "\n",
    "try:\n",
    "    # Eksekusi SQL Command \n",
    "    cursor.execute(insert_sql, values)\n",
    "\n",
    "    # Melakukan perubahan (commit) pada Database\n",
    "    conn.commit()\n",
    "    \n",
    "except Exception as e:\n",
    "    # Roll back apabila ada issue\n",
    "    print(f\"Error: {e}\")\n",
    "    conn.rollback()\n",
    "\n",
    "# Menutup koneksi\n",
    "cursor.close()\n",
    "conn.close()"
   ]
  }
 ],
 "metadata": {
  "kernelspec": {
   "display_name": "Python 3",
   "language": "python",
   "name": "python3"
  },
  "language_info": {
   "codemirror_mode": {
    "name": "ipython",
    "version": 3
   },
   "file_extension": ".py",
   "mimetype": "text/x-python",
   "name": "python",
   "nbconvert_exporter": "python",
   "pygments_lexer": "ipython3",
   "version": "3.8.8"
  }
 },
 "nbformat": 4,
 "nbformat_minor": 5
}
